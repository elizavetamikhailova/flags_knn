{
 "cells": [
  {
   "cell_type": "code",
   "execution_count": 1,
   "metadata": {},
   "outputs": [],
   "source": [
    "# Импортирование данных\n",
    "import pandas as pd\n",
    "import numpy as np\n",
    "import seaborn as sns\n",
    "url = 'http://archive.ics.uci.edu/ml/machine-learning-databases/flags/flag.data'"
   ]
  },
  {
   "cell_type": "code",
   "execution_count": 2,
   "metadata": {},
   "outputs": [],
   "source": [
    "# Извлечение данных в датафрейм\n",
    "df_flags = pd.read_csv(url)"
   ]
  },
  {
   "cell_type": "code",
   "execution_count": 3,
   "metadata": {},
   "outputs": [
    {
     "data": {
      "text/html": [
       "<div>\n",
       "<style scoped>\n",
       "    .dataframe tbody tr th:only-of-type {\n",
       "        vertical-align: middle;\n",
       "    }\n",
       "\n",
       "    .dataframe tbody tr th {\n",
       "        vertical-align: top;\n",
       "    }\n",
       "\n",
       "    .dataframe thead th {\n",
       "        text-align: right;\n",
       "    }\n",
       "</style>\n",
       "<table border=\"1\" class=\"dataframe\">\n",
       "  <thead>\n",
       "    <tr style=\"text-align: right;\">\n",
       "      <th></th>\n",
       "      <th>name</th>\n",
       "      <th>landmass</th>\n",
       "      <th>zone</th>\n",
       "      <th>area</th>\n",
       "      <th>population</th>\n",
       "      <th>lang</th>\n",
       "      <th>religion</th>\n",
       "      <th>bars</th>\n",
       "      <th>stripes</th>\n",
       "      <th>colours</th>\n",
       "      <th>...</th>\n",
       "      <th>saltires</th>\n",
       "      <th>quartets</th>\n",
       "      <th>sunstars</th>\n",
       "      <th>crescent</th>\n",
       "      <th>triangle</th>\n",
       "      <th>icon</th>\n",
       "      <th>animate</th>\n",
       "      <th>text</th>\n",
       "      <th>topleft</th>\n",
       "      <th>botright</th>\n",
       "    </tr>\n",
       "  </thead>\n",
       "  <tbody>\n",
       "    <tr>\n",
       "      <th>0</th>\n",
       "      <td>Albania</td>\n",
       "      <td>3</td>\n",
       "      <td>1</td>\n",
       "      <td>29</td>\n",
       "      <td>3</td>\n",
       "      <td>6</td>\n",
       "      <td>6</td>\n",
       "      <td>0</td>\n",
       "      <td>0</td>\n",
       "      <td>3</td>\n",
       "      <td>...</td>\n",
       "      <td>0</td>\n",
       "      <td>0</td>\n",
       "      <td>1</td>\n",
       "      <td>0</td>\n",
       "      <td>0</td>\n",
       "      <td>0</td>\n",
       "      <td>1</td>\n",
       "      <td>0</td>\n",
       "      <td>red</td>\n",
       "      <td>red</td>\n",
       "    </tr>\n",
       "    <tr>\n",
       "      <th>1</th>\n",
       "      <td>Algeria</td>\n",
       "      <td>4</td>\n",
       "      <td>1</td>\n",
       "      <td>2388</td>\n",
       "      <td>20</td>\n",
       "      <td>8</td>\n",
       "      <td>2</td>\n",
       "      <td>2</td>\n",
       "      <td>0</td>\n",
       "      <td>3</td>\n",
       "      <td>...</td>\n",
       "      <td>0</td>\n",
       "      <td>0</td>\n",
       "      <td>1</td>\n",
       "      <td>1</td>\n",
       "      <td>0</td>\n",
       "      <td>0</td>\n",
       "      <td>0</td>\n",
       "      <td>0</td>\n",
       "      <td>green</td>\n",
       "      <td>white</td>\n",
       "    </tr>\n",
       "    <tr>\n",
       "      <th>2</th>\n",
       "      <td>American-Samoa</td>\n",
       "      <td>6</td>\n",
       "      <td>3</td>\n",
       "      <td>0</td>\n",
       "      <td>0</td>\n",
       "      <td>1</td>\n",
       "      <td>1</td>\n",
       "      <td>0</td>\n",
       "      <td>0</td>\n",
       "      <td>5</td>\n",
       "      <td>...</td>\n",
       "      <td>0</td>\n",
       "      <td>0</td>\n",
       "      <td>0</td>\n",
       "      <td>0</td>\n",
       "      <td>1</td>\n",
       "      <td>1</td>\n",
       "      <td>1</td>\n",
       "      <td>0</td>\n",
       "      <td>blue</td>\n",
       "      <td>red</td>\n",
       "    </tr>\n",
       "    <tr>\n",
       "      <th>3</th>\n",
       "      <td>Andorra</td>\n",
       "      <td>3</td>\n",
       "      <td>1</td>\n",
       "      <td>0</td>\n",
       "      <td>0</td>\n",
       "      <td>6</td>\n",
       "      <td>0</td>\n",
       "      <td>3</td>\n",
       "      <td>0</td>\n",
       "      <td>3</td>\n",
       "      <td>...</td>\n",
       "      <td>0</td>\n",
       "      <td>0</td>\n",
       "      <td>0</td>\n",
       "      <td>0</td>\n",
       "      <td>0</td>\n",
       "      <td>0</td>\n",
       "      <td>0</td>\n",
       "      <td>0</td>\n",
       "      <td>blue</td>\n",
       "      <td>red</td>\n",
       "    </tr>\n",
       "    <tr>\n",
       "      <th>4</th>\n",
       "      <td>Angola</td>\n",
       "      <td>4</td>\n",
       "      <td>2</td>\n",
       "      <td>1247</td>\n",
       "      <td>7</td>\n",
       "      <td>10</td>\n",
       "      <td>5</td>\n",
       "      <td>0</td>\n",
       "      <td>2</td>\n",
       "      <td>3</td>\n",
       "      <td>...</td>\n",
       "      <td>0</td>\n",
       "      <td>0</td>\n",
       "      <td>1</td>\n",
       "      <td>0</td>\n",
       "      <td>0</td>\n",
       "      <td>1</td>\n",
       "      <td>0</td>\n",
       "      <td>0</td>\n",
       "      <td>red</td>\n",
       "      <td>black</td>\n",
       "    </tr>\n",
       "  </tbody>\n",
       "</table>\n",
       "<p>5 rows × 30 columns</p>\n",
       "</div>"
      ],
      "text/plain": [
       "             name  landmass  zone  area  population  lang  religion  bars  \\\n",
       "0         Albania         3     1    29           3     6         6     0   \n",
       "1         Algeria         4     1  2388          20     8         2     2   \n",
       "2  American-Samoa         6     3     0           0     1         1     0   \n",
       "3         Andorra         3     1     0           0     6         0     3   \n",
       "4          Angola         4     2  1247           7    10         5     0   \n",
       "\n",
       "   stripes  colours  ...  saltires  quartets  sunstars  crescent  triangle  \\\n",
       "0        0        3  ...         0         0         1         0         0   \n",
       "1        0        3  ...         0         0         1         1         0   \n",
       "2        0        5  ...         0         0         0         0         1   \n",
       "3        0        3  ...         0         0         0         0         0   \n",
       "4        2        3  ...         0         0         1         0         0   \n",
       "\n",
       "   icon  animate text  topleft  botright  \n",
       "0     0        1    0      red       red  \n",
       "1     0        0    0    green     white  \n",
       "2     1        1    0     blue       red  \n",
       "3     0        0    0     blue       red  \n",
       "4     1        0    0      red     black  \n",
       "\n",
       "[5 rows x 30 columns]"
      ]
     },
     "execution_count": 3,
     "metadata": {},
     "output_type": "execute_result"
    }
   ],
   "source": [
    "# Присваивание имен колонкам \n",
    "columns = ['name', 'landmass', 'zone', \n",
    "           'area', 'population', 'lang', 'religion',\n",
    "          'bars', 'stripes', 'colours', 'red',\n",
    "          'green', 'blue', 'gold', 'white',\n",
    "          'black', 'orange', 'mainhue', 'cicrles',\n",
    "          'crosses', 'saltires', 'quartets', 'sunstars', 'crescent',\n",
    "          'triangle', 'icon', 'animate', 'text',\n",
    "          'topleft', 'botright']\n",
    "df_flags.columns = columns\n",
    "df_flags.head()"
   ]
  },
  {
   "cell_type": "code",
   "execution_count": 4,
   "metadata": {},
   "outputs": [],
   "source": [
    "# Присваивание переменной targets целевых значений\n",
    "targets = df_flags.landmass\n",
    "# Извлечение из выборки целевых значений и колонки name, так как она не имеет значения в классификации\n",
    "data = df_flags.drop(['landmass'], axis=1)\n",
    "data = df_flags.drop(['name'], axis=1)"
   ]
  },
  {
   "cell_type": "code",
   "execution_count": 5,
   "metadata": {},
   "outputs": [
    {
     "data": {
      "text/html": [
       "<div>\n",
       "<style scoped>\n",
       "    .dataframe tbody tr th:only-of-type {\n",
       "        vertical-align: middle;\n",
       "    }\n",
       "\n",
       "    .dataframe tbody tr th {\n",
       "        vertical-align: top;\n",
       "    }\n",
       "\n",
       "    .dataframe thead th {\n",
       "        text-align: right;\n",
       "    }\n",
       "</style>\n",
       "<table border=\"1\" class=\"dataframe\">\n",
       "  <thead>\n",
       "    <tr style=\"text-align: right;\">\n",
       "      <th></th>\n",
       "      <th>landmass</th>\n",
       "      <th>zone</th>\n",
       "      <th>area</th>\n",
       "      <th>population</th>\n",
       "      <th>lang</th>\n",
       "      <th>religion</th>\n",
       "      <th>bars</th>\n",
       "      <th>stripes</th>\n",
       "      <th>colours</th>\n",
       "      <th>red</th>\n",
       "      <th>...</th>\n",
       "      <th>saltires</th>\n",
       "      <th>quartets</th>\n",
       "      <th>sunstars</th>\n",
       "      <th>crescent</th>\n",
       "      <th>triangle</th>\n",
       "      <th>icon</th>\n",
       "      <th>animate</th>\n",
       "      <th>text</th>\n",
       "      <th>topleft</th>\n",
       "      <th>botright</th>\n",
       "    </tr>\n",
       "  </thead>\n",
       "  <tbody>\n",
       "    <tr>\n",
       "      <th>0</th>\n",
       "      <td>3</td>\n",
       "      <td>1</td>\n",
       "      <td>29</td>\n",
       "      <td>3</td>\n",
       "      <td>6</td>\n",
       "      <td>6</td>\n",
       "      <td>0</td>\n",
       "      <td>0</td>\n",
       "      <td>3</td>\n",
       "      <td>1</td>\n",
       "      <td>...</td>\n",
       "      <td>0</td>\n",
       "      <td>0</td>\n",
       "      <td>1</td>\n",
       "      <td>0</td>\n",
       "      <td>0</td>\n",
       "      <td>0</td>\n",
       "      <td>1</td>\n",
       "      <td>0</td>\n",
       "      <td>1</td>\n",
       "      <td>1</td>\n",
       "    </tr>\n",
       "    <tr>\n",
       "      <th>1</th>\n",
       "      <td>4</td>\n",
       "      <td>1</td>\n",
       "      <td>2388</td>\n",
       "      <td>20</td>\n",
       "      <td>8</td>\n",
       "      <td>2</td>\n",
       "      <td>2</td>\n",
       "      <td>0</td>\n",
       "      <td>3</td>\n",
       "      <td>1</td>\n",
       "      <td>...</td>\n",
       "      <td>0</td>\n",
       "      <td>0</td>\n",
       "      <td>1</td>\n",
       "      <td>1</td>\n",
       "      <td>0</td>\n",
       "      <td>0</td>\n",
       "      <td>0</td>\n",
       "      <td>0</td>\n",
       "      <td>2</td>\n",
       "      <td>2</td>\n",
       "    </tr>\n",
       "    <tr>\n",
       "      <th>2</th>\n",
       "      <td>6</td>\n",
       "      <td>3</td>\n",
       "      <td>0</td>\n",
       "      <td>0</td>\n",
       "      <td>1</td>\n",
       "      <td>1</td>\n",
       "      <td>0</td>\n",
       "      <td>0</td>\n",
       "      <td>5</td>\n",
       "      <td>1</td>\n",
       "      <td>...</td>\n",
       "      <td>0</td>\n",
       "      <td>0</td>\n",
       "      <td>0</td>\n",
       "      <td>0</td>\n",
       "      <td>1</td>\n",
       "      <td>1</td>\n",
       "      <td>1</td>\n",
       "      <td>0</td>\n",
       "      <td>3</td>\n",
       "      <td>1</td>\n",
       "    </tr>\n",
       "    <tr>\n",
       "      <th>3</th>\n",
       "      <td>3</td>\n",
       "      <td>1</td>\n",
       "      <td>0</td>\n",
       "      <td>0</td>\n",
       "      <td>6</td>\n",
       "      <td>0</td>\n",
       "      <td>3</td>\n",
       "      <td>0</td>\n",
       "      <td>3</td>\n",
       "      <td>1</td>\n",
       "      <td>...</td>\n",
       "      <td>0</td>\n",
       "      <td>0</td>\n",
       "      <td>0</td>\n",
       "      <td>0</td>\n",
       "      <td>0</td>\n",
       "      <td>0</td>\n",
       "      <td>0</td>\n",
       "      <td>0</td>\n",
       "      <td>3</td>\n",
       "      <td>1</td>\n",
       "    </tr>\n",
       "    <tr>\n",
       "      <th>4</th>\n",
       "      <td>4</td>\n",
       "      <td>2</td>\n",
       "      <td>1247</td>\n",
       "      <td>7</td>\n",
       "      <td>10</td>\n",
       "      <td>5</td>\n",
       "      <td>0</td>\n",
       "      <td>2</td>\n",
       "      <td>3</td>\n",
       "      <td>1</td>\n",
       "      <td>...</td>\n",
       "      <td>0</td>\n",
       "      <td>0</td>\n",
       "      <td>1</td>\n",
       "      <td>0</td>\n",
       "      <td>0</td>\n",
       "      <td>1</td>\n",
       "      <td>0</td>\n",
       "      <td>0</td>\n",
       "      <td>1</td>\n",
       "      <td>3</td>\n",
       "    </tr>\n",
       "  </tbody>\n",
       "</table>\n",
       "<p>5 rows × 29 columns</p>\n",
       "</div>"
      ],
      "text/plain": [
       "   landmass  zone  area  population  lang  religion  bars  stripes  colours  \\\n",
       "0         3     1    29           3     6         6     0        0        3   \n",
       "1         4     1  2388          20     8         2     2        0        3   \n",
       "2         6     3     0           0     1         1     0        0        5   \n",
       "3         3     1     0           0     6         0     3        0        3   \n",
       "4         4     2  1247           7    10         5     0        2        3   \n",
       "\n",
       "   red  ...  saltires  quartets  sunstars  crescent  triangle  icon  animate  \\\n",
       "0    1  ...         0         0         1         0         0     0        1   \n",
       "1    1  ...         0         0         1         1         0     0        0   \n",
       "2    1  ...         0         0         0         0         1     1        1   \n",
       "3    1  ...         0         0         0         0         0     0        0   \n",
       "4    1  ...         0         0         1         0         0     1        0   \n",
       "\n",
       "   text  topleft  botright  \n",
       "0     0        1         1  \n",
       "1     0        2         2  \n",
       "2     0        3         1  \n",
       "3     0        3         1  \n",
       "4     0        1         3  \n",
       "\n",
       "[5 rows x 29 columns]"
      ]
     },
     "execution_count": 5,
     "metadata": {},
     "output_type": "execute_result"
    }
   ],
   "source": [
    "# Присваивание строковым значениям соответствующие числовые значения\n",
    "topleft = {'red': 1,'green': 2,'blue': 3,'white': 4,'black': 5,\n",
    "         'orange': 6, 'gold': 7} \n",
    "botright = {'red': 1,'white': 2,'black': 3,'blue': 4,'green': 5,\n",
    "         'orange': 6, 'gold': 7, 'brown': 8} \n",
    "mainhue = {'red': 1,'green': 2,'blue': 3,'gold': 4,\n",
    "           'white': 5,'orange': 5,\n",
    "         'black': 6, 'brown': 7} \n",
    "data.topleft = [topleft[item] for item in data.topleft]\n",
    "data.botright = [botright[item] for item in data.botright]\n",
    "data.mainhue = [mainhue[item] for item in data.mainhue]\n",
    "new_data = data\n",
    "new_data.head()"
   ]
  },
  {
   "cell_type": "code",
   "execution_count": 6,
   "metadata": {},
   "outputs": [],
   "source": [
    "from sklearn.preprocessing import StandardScaler\n",
    "from sklearn.model_selection import train_test_split\n",
    "# Приведение датафрейма к массиву numpy (необходимо для последующего использования PCA)\n",
    "X = data.to_numpy()\n",
    "y = targets.to_numpy()\n",
    "# Нормализация данных (приведение всех значений к значениям в диапазоне от 0 до 1)\n",
    "X = StandardScaler().fit_transform(X)\n",
    "# Разделение на тестовую и тренировочную выборки\n",
    "X_train, X_test, y_train, y_test = train_test_split(X, \n",
    "                                                    y, test_size=0.2,random_state=20)"
   ]
  },
  {
   "cell_type": "code",
   "execution_count": 7,
   "metadata": {},
   "outputs": [
    {
     "data": {
      "text/html": [
       "<img src=\"https://miro.medium.com/max/587/1*hncgU7vWLBsRvc8WJhxlkQ.png\"/>"
      ],
      "text/plain": [
       "<IPython.core.display.Image object>"
      ]
     },
     "execution_count": 7,
     "metadata": {},
     "output_type": "execute_result"
    }
   ],
   "source": [
    "# Для создания прогнозов алгоритм knn использует все обучающие данные с их метками\n",
    "# Количество ближаших соседей - это количество ближайших точек, \n",
    "# для которых уже известен класс (т.е они из тренировочного набора данных)\n",
    "# В качестве прогноза выбирается наиболее распространенный класс среди ближайших соседей \n",
    "# Для нахождения ближайших точек используются различные виды расстояний:\n",
    "# Евклидово, Хемминга, Манхэттена и Минковского\n",
    "from IPython.display import Image\n",
    "from IPython.core.display import HTML \n",
    "Image(url= \"https://miro.medium.com/max/587/1*hncgU7vWLBsRvc8WJhxlkQ.png\")"
   ]
  },
  {
   "cell_type": "code",
   "execution_count": 8,
   "metadata": {},
   "outputs": [
    {
     "data": {
      "text/plain": [
       "KNeighborsClassifier(algorithm='auto', leaf_size=30, metric='minkowski',\n",
       "                     metric_params=None, n_jobs=None, n_neighbors=3, p=2,\n",
       "                     weights='uniform')"
      ]
     },
     "execution_count": 8,
     "metadata": {},
     "output_type": "execute_result"
    }
   ],
   "source": [
    "from sklearn.neighbors import KNeighborsClassifier\n",
    "# Создание модели\n",
    "# Для начала попробуем создать модель с 3 соседями, по умолчанию выбирается расстояние Минковского\n",
    "model = KNeighborsClassifier(n_neighbors=3)\n",
    "# Обучение модели\n",
    "model.fit(X_train, y_train)"
   ]
  },
  {
   "cell_type": "code",
   "execution_count": 9,
   "metadata": {},
   "outputs": [
    {
     "data": {
      "text/html": [
       "<div>\n",
       "<style scoped>\n",
       "    .dataframe tbody tr th:only-of-type {\n",
       "        vertical-align: middle;\n",
       "    }\n",
       "\n",
       "    .dataframe tbody tr th {\n",
       "        vertical-align: top;\n",
       "    }\n",
       "\n",
       "    .dataframe thead th {\n",
       "        text-align: right;\n",
       "    }\n",
       "</style>\n",
       "<table border=\"1\" class=\"dataframe\">\n",
       "  <thead>\n",
       "    <tr style=\"text-align: right;\">\n",
       "      <th></th>\n",
       "      <th>predicted N.America</th>\n",
       "      <th>predicted S.America</th>\n",
       "      <th>predicted Europe</th>\n",
       "      <th>predicted Africa</th>\n",
       "      <th>predicted Asia</th>\n",
       "      <th>predicted Oceania</th>\n",
       "    </tr>\n",
       "  </thead>\n",
       "  <tbody>\n",
       "    <tr>\n",
       "      <th>N.America</th>\n",
       "      <td>3</td>\n",
       "      <td>1</td>\n",
       "      <td>0</td>\n",
       "      <td>0</td>\n",
       "      <td>0</td>\n",
       "      <td>0</td>\n",
       "    </tr>\n",
       "    <tr>\n",
       "      <th>S.America</th>\n",
       "      <td>2</td>\n",
       "      <td>1</td>\n",
       "      <td>0</td>\n",
       "      <td>0</td>\n",
       "      <td>0</td>\n",
       "      <td>0</td>\n",
       "    </tr>\n",
       "    <tr>\n",
       "      <th>Europe</th>\n",
       "      <td>0</td>\n",
       "      <td>2</td>\n",
       "      <td>4</td>\n",
       "      <td>3</td>\n",
       "      <td>1</td>\n",
       "      <td>0</td>\n",
       "    </tr>\n",
       "    <tr>\n",
       "      <th>Africa</th>\n",
       "      <td>0</td>\n",
       "      <td>0</td>\n",
       "      <td>2</td>\n",
       "      <td>4</td>\n",
       "      <td>5</td>\n",
       "      <td>1</td>\n",
       "    </tr>\n",
       "    <tr>\n",
       "      <th>Asia</th>\n",
       "      <td>0</td>\n",
       "      <td>0</td>\n",
       "      <td>1</td>\n",
       "      <td>3</td>\n",
       "      <td>3</td>\n",
       "      <td>0</td>\n",
       "    </tr>\n",
       "    <tr>\n",
       "      <th>Oceania</th>\n",
       "      <td>0</td>\n",
       "      <td>0</td>\n",
       "      <td>1</td>\n",
       "      <td>0</td>\n",
       "      <td>0</td>\n",
       "      <td>2</td>\n",
       "    </tr>\n",
       "  </tbody>\n",
       "</table>\n",
       "</div>"
      ],
      "text/plain": [
       "           predicted N.America  predicted S.America  predicted Europe  \\\n",
       "N.America                    3                    1                 0   \n",
       "S.America                    2                    1                 0   \n",
       "Europe                       0                    2                 4   \n",
       "Africa                       0                    0                 2   \n",
       "Asia                         0                    0                 1   \n",
       "Oceania                      0                    0                 1   \n",
       "\n",
       "           predicted Africa  predicted Asia  predicted Oceania  \n",
       "N.America                 0               0                  0  \n",
       "S.America                 0               0                  0  \n",
       "Europe                    3               1                  0  \n",
       "Africa                    4               5                  1  \n",
       "Asia                      3               3                  0  \n",
       "Oceania                   0               0                  2  "
      ]
     },
     "execution_count": 9,
     "metadata": {},
     "output_type": "execute_result"
    }
   ],
   "source": [
    "from sklearn.metrics import classification_report, confusion_matrix\n",
    "# Подготовка confusion матрицы для последующего отчета \n",
    "# В такой матрице можно рассмотреть количество совпадений предсказаний и ошибок\n",
    "y_predict = model.predict(X_test)\n",
    "cm = confusion_matrix(y_test, y_predict)\n",
    "cm = np.array(confusion_matrix(y_test, y_predict, labels=[1,2,3,4,5,6]))\n",
    "confusion = pd.DataFrame(cm, index = ['N.America', 'S.America', \n",
    "                                      'Europe', 'Africa', 'Asia',\n",
    "                                     'Oceania'], \n",
    "                         columns = ['predicted N.America', \n",
    "                                    'predicted S.America', \n",
    "                                      'predicted Europe', \n",
    "                                    'predicted Africa',\n",
    "                                    'predicted Asia',\n",
    "                                     'predicted Oceania'])\n",
    "confusion"
   ]
  },
  {
   "cell_type": "code",
   "execution_count": 10,
   "metadata": {},
   "outputs": [
    {
     "name": "stdout",
     "output_type": "stream",
     "text": [
      "              precision    recall  f1-score   support\n",
      "\n",
      "           1       0.60      0.75      0.67         4\n",
      "           2       0.25      0.33      0.29         3\n",
      "           3       0.50      0.40      0.44        10\n",
      "           4       0.40      0.33      0.36        12\n",
      "           5       0.33      0.43      0.38         7\n",
      "           6       0.67      0.67      0.67         3\n",
      "\n",
      "    accuracy                           0.44        39\n",
      "   macro avg       0.46      0.49      0.47        39\n",
      "weighted avg       0.44      0.44      0.43        39\n",
      "\n"
     ]
    }
   ],
   "source": [
    "# Создание классификационного отчета с метриками: общая точность, Recall, Precision, F1-measurehttp://my_site.com/my_picture.jpg\n",
    "print(classification_report(y_test, y_predict))"
   ]
  },
  {
   "cell_type": "code",
   "execution_count": 11,
   "metadata": {},
   "outputs": [
    {
     "name": "stdout",
     "output_type": "stream",
     "text": [
      "Accuracy: 0.5384615384615384\n"
     ]
    }
   ],
   "source": [
    "from sklearn.neighbors import KNeighborsClassifier\n",
    "from sklearn import metrics\n",
    "# Создание модели c 5 ближайшими соседями\n",
    "model5 = KNeighborsClassifier(n_neighbors=5)\n",
    "model5.fit(X_train, y_train)\n",
    "y_pred = model5.predict(X_test)\n",
    "# Рассчет точности для 5 ближайших соседей\n",
    "print(\"Accuracy:\",metrics.accuracy_score(y_test, y_pred))"
   ]
  },
  {
   "cell_type": "code",
   "execution_count": 12,
   "metadata": {},
   "outputs": [
    {
     "name": "stdout",
     "output_type": "stream",
     "text": [
      "Accuracy: 0.6153846153846154\n"
     ]
    }
   ],
   "source": [
    "from sklearn.neighbors import KNeighborsClassifier\n",
    "from sklearn import metrics\n",
    "# Создание модели c 11 ближайшими соседями\n",
    "model11 = KNeighborsClassifier(n_neighbors=11)\n",
    "model11.fit(X_train, y_train)\n",
    "y_pred = model11.predict(X_test)\n",
    "# Рассчет точности для 11 ближайших соседей\n",
    "print(\"Accuracy:\",metrics.accuracy_score(y_test, y_pred))"
   ]
  },
  {
   "cell_type": "code",
   "execution_count": 13,
   "metadata": {},
   "outputs": [
    {
     "name": "stdout",
     "output_type": "stream",
     "text": [
      "Accuracy: 0.3333333333333333\n"
     ]
    }
   ],
   "source": [
    "from sklearn.neighbors import KNeighborsClassifier\n",
    "from sklearn import metrics\n",
    "# Создание модели c 100 ближайшими соседями\n",
    "model100 = KNeighborsClassifier(n_neighbors=100)\n",
    "model100.fit(X_train, y_train)\n",
    "y_pred = model100.predict(X_test)\n",
    "# Рассчет точности для 100 ближайших соседей\n",
    "print(\"Accuracy:\",metrics.accuracy_score(y_test, y_pred))"
   ]
  },
  {
   "cell_type": "code",
   "execution_count": 14,
   "metadata": {},
   "outputs": [
    {
     "name": "stdout",
     "output_type": "stream",
     "text": [
      "Accuracy n_neighbors = 3: 0.4358974358974359\n",
      "Accuracy n_neighbors = 5: 0.5384615384615384\n",
      "Accuracy n_neighbors = 11: 0.6153846153846154\n",
      "Accuracy n_neighbors = 100: 0.3333333333333333\n"
     ]
    }
   ],
   "source": [
    "y_pred = model.predict(X_test)\n",
    "print(\"Accuracy n_neighbors = 3:\",metrics.accuracy_score(y_test, y_pred))\n",
    "y_pred = model5.predict(X_test)\n",
    "print(\"Accuracy n_neighbors = 5:\",metrics.accuracy_score(y_test, y_pred))\n",
    "y_pred = model11.predict(X_test)\n",
    "print(\"Accuracy n_neighbors = 11:\",metrics.accuracy_score(y_test, y_pred))\n",
    "y_pred = model100.predict(X_test)\n",
    "print(\"Accuracy n_neighbors = 100:\",metrics.accuracy_score(y_test, y_pred))"
   ]
  },
  {
   "cell_type": "code",
   "execution_count": 15,
   "metadata": {},
   "outputs": [
    {
     "name": "stdout",
     "output_type": "stream",
     "text": [
      "Accuracy: 0.6153846153846154\n"
     ]
    }
   ],
   "source": [
    "# Выше мы видим, что при увеличении количества соседей до 11 точность растет, но далее, чем больше их становится,\n",
    "# тем меньше становится точность\n",
    "# Теперь проверим как меняется точность с изменением расстояний\n",
    "# euclidean manhattan hamming\n",
    "# Создание модели c 11 ближайшими соседями и Евклидовым расстоянием\n",
    "modelEuclidean = KNeighborsClassifier(n_neighbors=11, metric='euclidean')\n",
    "modelEuclidean.fit(X_train, y_train)\n",
    "y_pred = modelEuclidean.predict(X_test)\n",
    "print(\"Accuracy:\",metrics.accuracy_score(y_test, y_pred))"
   ]
  },
  {
   "cell_type": "code",
   "execution_count": 16,
   "metadata": {},
   "outputs": [
    {
     "name": "stdout",
     "output_type": "stream",
     "text": [
      "Accuracy: 0.717948717948718\n"
     ]
    }
   ],
   "source": [
    "# Создание модели c 11 ближайшими соседями и расстоянием Манхэттена\n",
    "modelManhattan = KNeighborsClassifier(n_neighbors=11, metric='manhattan')\n",
    "modelManhattan.fit(X_train, y_train)\n",
    "y_pred = modelManhattan.predict(X_test)\n",
    "print(\"Accuracy:\",metrics.accuracy_score(y_test, y_pred))"
   ]
  },
  {
   "cell_type": "code",
   "execution_count": 17,
   "metadata": {},
   "outputs": [
    {
     "name": "stdout",
     "output_type": "stream",
     "text": [
      "Accuracy: 0.8974358974358975\n"
     ]
    }
   ],
   "source": [
    "# Создание модели c 11 ближайшими соседями и расстоянием Хэмминга\n",
    "modelHamming = KNeighborsClassifier(n_neighbors=11, metric='hamming')\n",
    "modelHamming.fit(X_train, y_train)\n",
    "y_pred = modelHamming.predict(X_test)\n",
    "print(\"Accuracy:\",metrics.accuracy_score(y_test, y_pred))"
   ]
  },
  {
   "cell_type": "code",
   "execution_count": 18,
   "metadata": {},
   "outputs": [
    {
     "name": "stdout",
     "output_type": "stream",
     "text": [
      "Accuracy: 0.8974358974358975\n"
     ]
    }
   ],
   "source": [
    "# Затем попробуем изменить значения весов соседей, которые используются в голосовании\n",
    "# ‘uniform’ - все соседи имеют одинаковый вес(используется по умолчанию)\n",
    "# ‘distance’ - чем ближе сосед, тем больше весит его голос\n",
    "modelDistance = KNeighborsClassifier(n_neighbors=11, metric='hamming', weights='distance')\n",
    "modelDistance.fit(X_train, y_train)\n",
    "y_pred = modelDistance.predict(X_test)\n",
    "print(\"Accuracy:\",metrics.accuracy_score(y_test, y_pred))"
   ]
  },
  {
   "cell_type": "code",
   "execution_count": 40,
   "metadata": {},
   "outputs": [
    {
     "name": "stdout",
     "output_type": "stream",
     "text": [
      "Accuracy: 0.1794871794871795\n"
     ]
    }
   ],
   "source": [
    "# Таким образом, можно наблюдать, что наилучшим классификатором является \n",
    "# модель с 11-ю соседями, расстоянием Хэмминга, и в данном случае значение веса голоса соседа не имеет значения.\n",
    "# Выполним визуализацию для лучшего классификатора:\n",
    "from sklearn.decomposition import PCA\n",
    "import pylab as pl\n",
    "pca_train = PCA(n_components=2).fit(X_train)\n",
    "X_train = pca_train.transform(X_train)\n",
    "pca_test = PCA(n_components=2).fit(X_test)\n",
    "X_test = pca_train.transform(X_test)\n",
    "modelPCA = KNeighborsClassifier(n_neighbors=11, metric='hamming', weights='distance')\n",
    "modelPCA.fit(X_train, y_train)\n",
    "y_pred = modelPCA.predict(X_test)\n",
    "print(\"Accuracy:\",metrics.accuracy_score(y_test, y_pred))"
   ]
  },
  {
   "cell_type": "code",
   "execution_count": 42,
   "metadata": {},
   "outputs": [
    {
     "name": "stdout",
     "output_type": "stream",
     "text": [
      "Accuracy: 0.358974358974359\n"
     ]
    }
   ],
   "source": [
    "# Выше мы можем наблюдать падение точности с использованием PCA \n",
    "# PCA приводит размерность датасета к 2 основным компонентам\n",
    "# Поэтому эксперементальным путем была выявлена модель с наилучшей точностью\n",
    "modelPCA = KNeighborsClassifier(n_neighbors=3, metric='euclidean', weights='distance')\n",
    "modelPCA.fit(X_train, y_train)\n",
    "y_pred = modelPCA.predict(X_test)\n",
    "print(\"Accuracy:\",metrics.accuracy_score(y_test, y_pred))"
   ]
  },
  {
   "cell_type": "code",
   "execution_count": 65,
   "metadata": {},
   "outputs": [
    {
     "data": {
      "image/png": "[encoded data removed]",
      "text/plain": [
       "<Figure size 1152x864 with 1 Axes>"
      ]
     },
     "metadata": {
      "needs_background": "light"
     },
     "output_type": "display_data"
    }
   ],
   "source": [
    "import matplotlib\n",
    "import matplotlib.pyplot as plt\n",
    "from matplotlib.colors import ListedColormap\n",
    "\n",
    "h = .02\n",
    "x_min, x_max = X_train[:, 0].min() - 1, X_train[:, 0].max() + 1\n",
    "y_min, y_max = X_train[:, 1].min() - 1, X_train[:, 1].max() + 1\n",
    "xx, yy = np.meshgrid(np.arange(x_min, x_max, h),\n",
    "np.arange(y_min, y_max, h))\n",
    "cmap_light = ListedColormap(['#b08fa3', '#cfe3c8','#a1c2c7', '#dfb6e3', '#b1b6f0'])\n",
    "cmap_bold = ListedColormap(['#631043', '#52664b','#2f5157', '#604163', '#0a18bf'])\n",
    "Z = modelPCA.predict(np.c_[xx.ravel(), yy.ravel()])\n",
    "Z = Z.reshape(xx.shape)\n",
    "plt.figure(1, figsize=(16, 12))\n",
    "plt.pcolormesh(xx, yy, Z, cmap=cmap_light)\n",
    "plt.scatter(X_train[:, 0], X_train[:, 1], c=y_train, cmap=cmap_bold)\n",
    "plt.xlim(xx.min(), xx.max())\n",
    "plt.ylim(yy.min(), yy.max())\n",
    "plt.title(\"KNN classification (k = 3) train data\")\n",
    "plt.show()"
   ]
  },
  {
   "cell_type": "code",
   "execution_count": 64,
   "metadata": {},
   "outputs": [
    {
     "data": {
      "image/png": "[encoded data removed]",
      "text/plain": [
       "<Figure size 1152x864 with 1 Axes>"
      ]
     },
     "metadata": {
      "needs_background": "light"
     },
     "output_type": "display_data"
    }
   ],
   "source": [
    "import matplotlib\n",
    "import matplotlib.pyplot as plt\n",
    "from matplotlib.colors import ListedColormap\n",
    "h = .02\n",
    "x_min, x_max = X_test[:, 0].min() - 1, X_test[:, 0].max() + 1\n",
    "y_min, y_max = X_test[:, 1].min() - 1, X_test[:, 1].max() + 1\n",
    "xx, yy = np.meshgrid(np.arange(x_min, x_max, h),\n",
    "np.arange(y_min, y_max, h))\n",
    "cmap_light = ListedColormap(['#b08fa3', '#cfe3c8','#a1c2c7', '#dfb6e3', '#b1b6f0'])\n",
    "cmap_bold = ListedColormap(['#631043', '#52664b','#2f5157', '#604163', '#0a18bf'])\n",
    "Z = modelPCA.predict(np.c_[xx.ravel(), yy.ravel()])\n",
    "Z = Z.reshape(xx.shape)\n",
    "plt.figure(1, figsize=(16, 12))\n",
    "plt.pcolormesh(xx, yy, Z, cmap=cmap_light)\n",
    "plt.scatter(X_test[:, 0], X_test[:, 1], c=y_test, cmap=cmap_bold)\n",
    "plt.xlim(xx.min(), xx.max())\n",
    "plt.ylim(yy.min(), yy.max())\n",
    "plt.title(\"KNN classification (k = 3) test data\")\n",
    "plt.show()"
   ]
  },
  {
   "cell_type": "code",
   "execution_count": null,
   "metadata": {},
   "outputs": [],
   "source": []
  }
 ],
 "metadata": {
  "kernelspec": {
   "display_name": "Python 3",
   "language": "python",
   "name": "python3"
  },
  "language_info": {
   "codemirror_mode": {
    "name": "ipython",
    "version": 3
   },
   "file_extension": ".py",
   "mimetype": "text/x-python",
   "name": "python",
   "nbconvert_exporter": "python",
   "pygments_lexer": "ipython3",
   "version": "3.6.9"
  }
 },
 "nbformat": 4,
 "nbformat_minor": 2
}
